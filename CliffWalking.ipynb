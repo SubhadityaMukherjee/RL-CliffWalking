{
 "cells": [
  {
   "cell_type": "markdown",
   "metadata": {
    "toc": true
   },
   "source": [
    "<h1>Table of Contents<span class=\"tocSkip\"></span></h1>\n",
    "<div class=\"toc\"><ul class=\"toc-item\"><li><span><a href=\"#Env\" data-toc-modified-id=\"Env-1\"><span class=\"toc-item-num\">1&nbsp;&nbsp;</span>Env</a></span></li><li><span><a href=\"#Making-an-optimal-policy-gridworld\" data-toc-modified-id=\"Making-an-optimal-policy-gridworld-2\"><span class=\"toc-item-num\">2&nbsp;&nbsp;</span>Making an optimal policy gridworld</a></span></li><li><span><a href=\"#TD-Control:-SARSA\" data-toc-modified-id=\"TD-Control:-SARSA-3\"><span class=\"toc-item-num\">3&nbsp;&nbsp;</span>TD Control: SARSA</a></span></li><li><span><a href=\"#Q-Learning\" data-toc-modified-id=\"Q-Learning-4\"><span class=\"toc-item-num\">4&nbsp;&nbsp;</span>Q Learning</a></span></li><li><span><a href=\"#Expected-SARSA\" data-toc-modified-id=\"Expected-SARSA-5\"><span class=\"toc-item-num\">5&nbsp;&nbsp;</span>Expected SARSA</a></span></li></ul></div>"
   ]
  },
  {
   "cell_type": "code",
   "execution_count": 2,
   "metadata": {
    "ExecuteTime": {
     "end_time": "2019-07-14T18:27:38.347250Z",
     "start_time": "2019-07-14T18:27:38.335218Z"
    }
   },
   "outputs": [],
   "source": [
    "import sys\n",
    "import gym\n",
    "import numpy as np\n",
    "import random\n",
    "import math\n",
    "from collections import defaultdict, deque\n",
    "import matplotlib.pyplot as plt\n",
    "%matplotlib inline\n",
    "\n",
    "import check_test\n",
    "from plot_utils import plot_values"
   ]
  },
  {
   "cell_type": "markdown",
   "metadata": {},
   "source": [
    "## Env "
   ]
  },
  {
   "cell_type": "code",
   "execution_count": 3,
   "metadata": {
    "ExecuteTime": {
     "end_time": "2019-07-14T18:28:16.980065Z",
     "start_time": "2019-07-14T18:28:16.925388Z"
    }
   },
   "outputs": [],
   "source": [
    "env = gym.make('CliffWalking-v0')"
   ]
  },
  {
   "cell_type": "markdown",
   "metadata": {},
   "source": [
    "The agent moves through a $4\\times 12$ gridworld, with states numbered as follows:\n",
    "```\n",
    "[[ 0,  1,  2,  3,  4,  5,  6,  7,  8,  9, 10, 11],\n",
    " [12, 13, 14, 15, 16, 17, 18, 19, 20, 21, 22, 23],\n",
    " [24, 25, 26, 27, 28, 29, 30, 31, 32, 33, 34, 35],\n",
    " [36, 37, 38, 39, 40, 41, 42, 43, 44, 45, 46, 47]]\n",
    "```\n",
    "At the start of any episode, state `36` is the initial state.  State `47` is the only terminal state, and the cliff corresponds to states `37` through `46`.\n",
    "\n",
    "The agent has 4 potential actions:\n",
    "```\n",
    "UP = 0\n",
    "RIGHT = 1\n",
    "DOWN = 2\n",
    "LEFT = 3\n",
    "```"
   ]
  },
  {
   "cell_type": "code",
   "execution_count": 4,
   "metadata": {
    "ExecuteTime": {
     "end_time": "2019-07-14T18:28:59.851078Z",
     "start_time": "2019-07-14T18:28:59.844712Z"
    }
   },
   "outputs": [
    {
     "name": "stdout",
     "output_type": "stream",
     "text": [
      "Discrete(4)\n",
      "Discrete(48)\n"
     ]
    }
   ],
   "source": [
    "print(env.action_space)\n",
    "print(env.observation_space)"
   ]
  },
  {
   "cell_type": "markdown",
   "metadata": {},
   "source": [
    "## Making an optimal policy gridworld"
   ]
  },
  {
   "cell_type": "code",
   "execution_count": 7,
   "metadata": {
    "ExecuteTime": {
     "end_time": "2019-07-14T18:40:01.862185Z",
     "start_time": "2019-07-14T18:40:01.574959Z"
    }
   },
   "outputs": [
    {
     "name": "stderr",
     "output_type": "stream",
     "text": [
      "/Users/lordvile/anaconda/envs/new/lib/python3.6/site-packages/matplotlib/cbook/deprecation.py:107: MatplotlibDeprecationWarning: Passing one of 'on', 'true', 'off', 'false' as a boolean is deprecated; use an actual boolean (True/False) instead.\n",
      "  warnings.warn(message, mplDeprecation, stacklevel=1)\n"
     ]
    },
    {
     "data": {
      "image/png": "[encoded data removed]",
      "text/plain": [
       "<Figure size 1080x360 with 1 Axes>"
      ]
     },
     "metadata": {},
     "output_type": "display_data"
    }
   ],
   "source": [
    "V_opt = np.zeros((4, 12))\n",
    "V_opt[0][0:13] = -np.arange(3, 15)[::-1]\n",
    "V_opt[1][0:13] = -np.arange(3, 15)[::-1] + 1\n",
    "V_opt[2][0:13] = -np.arange(3, 15)[::-1] + 2\n",
    "V_opt[3][0] = -13\n",
    "plot_values(V_opt)"
   ]
  },
  {
   "cell_type": "markdown",
   "metadata": {},
   "source": [
    "## TD Control: SARSA"
   ]
  },
  {
   "cell_type": "code",
   "execution_count": 8,
   "metadata": {
    "ExecuteTime": {
     "end_time": "2019-07-14T18:46:51.493170Z",
     "start_time": "2019-07-14T18:46:51.485155Z"
    }
   },
   "outputs": [],
   "source": [
    "def update_Q_sarsa(alpha,\n",
    "                   gamma,\n",
    "                   Q,\n",
    "                   state,\n",
    "                   action,\n",
    "                   reward,\n",
    "                   next_state=None,\n",
    "                   next_action=None):\n",
    "    current_q = Q[state][action]\n",
    "    next_q = Q[next_state][next_action] if next_state is not None else 0\n",
    "    target_q = reward + (gamma * next_q)\n",
    "    new_q = current_q + (alpha * (target_q - current_q))\n",
    "    return new_q\n",
    "\n",
    "\n",
    "def epsilon_greedy_fn(Q, state, action_space, eps):\n",
    "    if random.random() > eps:\n",
    "        return np.argmax(Q[state])\n",
    "    else:\n",
    "        return random.choice(np.arange(action_space))"
   ]
  },
  {
   "cell_type": "code",
   "execution_count": 11,
   "metadata": {
    "ExecuteTime": {
     "end_time": "2019-07-14T19:04:30.129991Z",
     "start_time": "2019-07-14T19:04:30.115482Z"
    }
   },
   "outputs": [],
   "source": [
    "def sarsa(env, num_ep, alpha, gamma=1.0, plot_every=100):\n",
    "    nA = env.action_space.n\n",
    "    Q = defaultdict(lambda: np.zeros(nA))\n",
    "\n",
    "    temp_scores = deque(maxlen=plot_every)\n",
    "    avg_scores = deque(maxlen=num_ep)\n",
    "\n",
    "    for i_ep in range(1, num_ep + 1):\n",
    "        if i_ep % 100 == 0:\n",
    "            print(\"\\rEpisode {}/{}\".format(i_ep, num_ep), end=\"\")\n",
    "            sys.stdout.flush()\n",
    "        score = 0\n",
    "        state = env.reset()\n",
    "\n",
    "        eps = 1.0 / i_ep\n",
    "        action = epsilon_greedy_fn(Q, state, nA, eps)\n",
    "\n",
    "        while True:\n",
    "            next_state, reward, done, infp = env.step(action)\n",
    "            score += reward\n",
    "            if not done:\n",
    "                next_action = epsilon_greedy_fn(Q,next_state,nA,eps)\n",
    "                Q[state][action] = update_Q_sarsa(alpha, gamma, Q, state,\n",
    "                                                  action, reward, next_state,\n",
    "                                                  next_action)\n",
    "                state = next_state\n",
    "                action = next_action\n",
    "            if done:\n",
    "                Q[state][action] = update_Q_sarsa(alpha, gamma, Q, state,\n",
    "                                                  action, reward)\n",
    "                temp_scores.append(score)\n",
    "                break\n",
    "\n",
    "        if (i_ep % plot_every == 0):\n",
    "            avg_scores.append(np.mean(temp_scores))\n",
    "\n",
    "    plt.plot(\n",
    "        np.linspace(0, num_ep, len(avg_scores), endpoint=False),\n",
    "        np.asarray(avg_scores))\n",
    "    plt.xlabel('Ep No')\n",
    "    plt.ylabel('Avg reward over next {} episodes'.format(plot_every))\n",
    "    plt.show()\n",
    "    print(('Best Average Reward over %d Episodes: ' % plot_every),\n",
    "          np.max(avg_scores))\n",
    "    return Q"
   ]
  },
  {
   "cell_type": "code",
   "execution_count": 17,
   "metadata": {
    "ExecuteTime": {
     "end_time": "2019-07-14T19:06:40.200839Z",
     "start_time": "2019-07-14T19:06:28.565611Z"
    }
   },
   "outputs": [
    {
     "name": "stdout",
     "output_type": "stream",
     "text": [
      "Episode 50000/50000"
     ]
    },
    {
     "data": {
      "image/png": "[encoded data removed]",
      "text/plain": [
       "<Figure size 432x288 with 1 Axes>"
      ]
     },
     "metadata": {
      "needs_background": "light"
     },
     "output_type": "display_data"
    },
    {
     "name": "stdout",
     "output_type": "stream",
     "text": [
      "Best Average Reward over 100 Episodes:  -13.0\n",
      "\n",
      "Estimated Optimal Policy (UP = 0, RIGHT = 1, DOWN = 2, LEFT = 3, N/A = -1):\n",
      "[[ 3  0  0  1  1  1  1  1  0  1  2  2]\n",
      " [ 1  2  0  2  1  1  1  1  2  1  2  2]\n",
      " [ 1  1  1  1  1  1  1  1  1  1  1  2]\n",
      " [ 0 -1 -1 -1 -1 -1 -1 -1 -1 -1 -1 -1]]\n"
     ]
    }
   ],
   "source": [
    "Q_sarsa = sarsa(env, 50000, .01)\n",
    "policy_sarsa = np.array([\n",
    "    np.argmax(Q_sarsa[key]) if key in Q_sarsa else -1 for key in np.arange(48)\n",
    "]).reshape(4, 12)\n",
    "\n",
    "print(\"\\nEstimated Optimal Policy (UP = 0, RIGHT = 1, DOWN = 2, LEFT = 3, N/A = -1):\")\n",
    "print(policy_sarsa)\n",
    "\n",
    "V_sarsa = ([np.max(Q_sarsa[key]) if key in Q_sarsa else 0 for key in np.arange(48)])"
   ]
  },
  {
   "cell_type": "markdown",
   "metadata": {},
   "source": [
    "## Q Learning"
   ]
  },
  {
   "cell_type": "code",
   "execution_count": 21,
   "metadata": {
    "ExecuteTime": {
     "end_time": "2019-07-15T04:39:18.571556Z",
     "start_time": "2019-07-15T04:39:18.561821Z"
    }
   },
   "outputs": [],
   "source": [
    "def update_Q_sarsamax(alpha,\n",
    "                   gamma,\n",
    "                   Q,\n",
    "                   state,\n",
    "                   action,\n",
    "                   reward,\n",
    "                   next_state=None):\n",
    "    current_q = Q[state][action]\n",
    "    next_q = np.max(Q[next_state]) if next_state is not None else 0\n",
    "    target_q = reward + (gamma * next_q)\n",
    "    new_q = current_q + (alpha * (target_q - current_q))\n",
    "    return new_q\n"
   ]
  },
  {
   "cell_type": "code",
   "execution_count": 22,
   "metadata": {
    "ExecuteTime": {
     "end_time": "2019-07-15T04:39:18.595180Z",
     "start_time": "2019-07-15T04:39:18.575932Z"
    }
   },
   "outputs": [],
   "source": [
    "def q_learning(env, num_ep, alpha, gamma=1.0, plot_every=100):\n",
    "    nA = env.action_space.n\n",
    "    Q = defaultdict(lambda: np.zeros(nA))\n",
    "\n",
    "    temp_scores = deque(maxlen=plot_every)\n",
    "    avg_scores = deque(maxlen=num_ep)\n",
    "\n",
    "    for i_ep in range(1, num_ep + 1):\n",
    "        if i_ep % 100 == 0:\n",
    "            print(\"\\rEpisode {}/{}\".format(i_ep, num_ep), end=\"\")\n",
    "            sys.stdout.flush()\n",
    "        score = 0\n",
    "        state = env.reset()\n",
    "\n",
    "        eps = 1.0 / i_ep\n",
    "        \n",
    "\n",
    "        while True:\n",
    "            action = epsilon_greedy_fn(Q, state, nA, eps)\n",
    "            next_state, reward, done, infp = env.step(action)\n",
    "            score += reward\n",
    "            if not done:\n",
    "                next_action = epsilon_greedy_fn(Q,next_state,nA,eps)\n",
    "                Q[state][action] = update_Q_sarsamax(alpha, gamma, Q, state,\n",
    "                                                  action, reward, next_state)\n",
    "                state = next_state\n",
    "            if done:\n",
    "                temp_scores.append(score)\n",
    "                break\n",
    "\n",
    "        if (i_ep % plot_every == 0):\n",
    "            avg_scores.append(np.mean(temp_scores))\n",
    "\n",
    "    plt.plot(\n",
    "        np.linspace(0, num_ep, len(avg_scores), endpoint=False),\n",
    "        np.asarray(avg_scores))\n",
    "    plt.xlabel('Ep No')\n",
    "    plt.ylabel('Avg reward over next {} episodes'.format(plot_every))\n",
    "    plt.show()\n",
    "    print(('Best Average Reward over %d Episodes: ' % plot_every),\n",
    "          np.max(avg_scores))\n",
    "    return Q"
   ]
  },
  {
   "cell_type": "code",
   "execution_count": 23,
   "metadata": {
    "ExecuteTime": {
     "end_time": "2019-07-15T04:39:35.709584Z",
     "start_time": "2019-07-15T04:39:18.599412Z"
    }
   },
   "outputs": [
    {
     "name": "stdout",
     "output_type": "stream",
     "text": [
      "Episode 50000/50000"
     ]
    },
    {
     "data": {
      "image/png": "[encoded data removed]",
      "text/plain": [
       "<Figure size 432x288 with 1 Axes>"
      ]
     },
     "metadata": {
      "needs_background": "light"
     },
     "output_type": "display_data"
    },
    {
     "name": "stdout",
     "output_type": "stream",
     "text": [
      "Best Average Reward over 100 Episodes:  -13.0\n",
      "\n",
      "Estimated Optimal Policy (UP = 0, RIGHT = 1, DOWN = 2, LEFT = 3, N/A = -1):\n",
      "[[ 2  1  2  3  3  1  1  1  1  1  2  2]\n",
      " [ 0  1  1  0  1  1  2  1  2  1  2  2]\n",
      " [ 1  1  1  1  1  1  1  1  1  1  1  2]\n",
      " [ 0 -1 -1 -1 -1 -1 -1 -1 -1 -1 -1 -1]]\n"
     ]
    }
   ],
   "source": [
    "Q_sarsamax = q_learning(env, 50000, .01)\n",
    "policy_sarsamax = np.array([\n",
    "    np.argmax(Q_sarsamax[key]) if key in Q_sarsamax else -1 for key in np.arange(48)\n",
    "]).reshape(4, 12)\n",
    "\n",
    "print(\"\\nEstimated Optimal Policy (UP = 0, RIGHT = 1, DOWN = 2, LEFT = 3, N/A = -1):\")\n",
    "print(policy_sarsamax)\n",
    "\n",
    "V_sarsa = ([np.max(Q_sarsamax[key]) if key in Q_sarsamax else 0 for key in np.arange(48)])"
   ]
  },
  {
   "cell_type": "markdown",
   "metadata": {},
   "source": [
    "## Expected SARSA"
   ]
  },
  {
   "cell_type": "code",
   "execution_count": 24,
   "metadata": {
    "ExecuteTime": {
     "end_time": "2019-07-15T04:56:52.875973Z",
     "start_time": "2019-07-15T04:56:52.867926Z"
    }
   },
   "outputs": [],
   "source": [
    "def update_Q_expecsarsa(alpha,\n",
    "                        gamma,\n",
    "                        nA,\n",
    "                        eps,\n",
    "                        Q,\n",
    "                        state,\n",
    "                        action,\n",
    "                        reward,\n",
    "                        next_state=None):\n",
    "    current_q = Q[state][action]\n",
    "    policy_s = np.ones(nA)*eps/nA\n",
    "    policy_s[np.argmax(Q[next_state])] = 1- eps+(eps/nA)\n",
    "    next_q = np.dot(Q[next_state],policy_s) \n",
    "    target_q = reward + (gamma * next_q)\n",
    "    new_q = current_q + (alpha * (target_q - current_q))\n",
    "    return new_q"
   ]
  },
  {
   "cell_type": "code",
   "execution_count": 25,
   "metadata": {
    "ExecuteTime": {
     "end_time": "2019-07-15T04:59:26.268893Z",
     "start_time": "2019-07-15T04:59:26.257519Z"
    }
   },
   "outputs": [],
   "source": [
    "def q_learning(env, num_ep, alpha, gamma=1.0, plot_every=100):\n",
    "    nA = env.action_space.n\n",
    "    Q = defaultdict(lambda: np.zeros(nA))\n",
    "\n",
    "    temp_scores = deque(maxlen=plot_every)\n",
    "    avg_scores = deque(maxlen=num_ep)\n",
    "\n",
    "    for i_ep in range(1, num_ep + 1):\n",
    "        if i_ep % 100 == 0:\n",
    "            print(\"\\rEpisode {}/{}\".format(i_ep, num_ep), end=\"\")\n",
    "            sys.stdout.flush()\n",
    "        score = 0\n",
    "        state = env.reset()\n",
    "\n",
    "        eps = .005 # fixed\n",
    "        \n",
    "\n",
    "        while True:\n",
    "            action = epsilon_greedy_fn(Q, state, nA, eps)\n",
    "            next_state, reward, done, infp = env.step(action)\n",
    "            score += reward\n",
    "            Q[state][action] = update_Q_expecsarsa(alpha, gamma, nA,eps,Q, state,\n",
    "                                              action, reward, next_state)\n",
    "            state = next_state\n",
    "            if done:\n",
    "                temp_scores.append(score)\n",
    "                break\n",
    "\n",
    "        if (i_ep % plot_every == 0):\n",
    "            avg_scores.append(np.mean(temp_scores))\n",
    "\n",
    "    plt.plot(\n",
    "        np.linspace(0, num_ep, len(avg_scores), endpoint=False),\n",
    "        np.asarray(avg_scores))\n",
    "    plt.xlabel('Ep No')\n",
    "    plt.ylabel('Avg reward over next {} episodes'.format(plot_every))\n",
    "    plt.show()\n",
    "    print(('Best Average Reward over %d Episodes: ' % plot_every),\n",
    "          np.max(avg_scores))\n",
    "    return Q"
   ]
  },
  {
   "cell_type": "code",
   "execution_count": 36,
   "metadata": {
    "ExecuteTime": {
     "end_time": "2019-07-15T05:29:49.035338Z",
     "start_time": "2019-07-15T05:29:47.145533Z"
    }
   },
   "outputs": [
    {
     "name": "stdout",
     "output_type": "stream",
     "text": [
      "Episode 5000/5000"
     ]
    },
    {
     "data": {
      "image/png": "[encoded data removed]",
      "text/plain": [
       "<Figure size 432x288 with 1 Axes>"
      ]
     },
     "metadata": {
      "needs_background": "light"
     },
     "output_type": "display_data"
    },
    {
     "name": "stdout",
     "output_type": "stream",
     "text": [
      "Best Average Reward over 100 Episodes:  -13.02\n",
      "\n",
      "Estimated Optimal Policy (UP = 0, RIGHT = 1, DOWN = 2, LEFT = 3, N/A = -1):\n",
      "[[ 1  1  1  1  1  1  1  1  1  2  2  2]\n",
      " [ 1  1  1  1  1  1  1  1  1  1  1  2]\n",
      " [ 1  1  1  1  1  1  1  1  1  1  1  2]\n",
      " [ 0 -1 -1 -1 -1 -1 -1 -1 -1 -1 -1  0]]\n"
     ]
    }
   ],
   "source": [
    "Q_expecsarsa = q_learning(env, 5000, .9)\n",
    "policy_expecsars = np.array([\n",
    "    np.argmax(Q_expecsarsa[key]) if key in Q_expecsarsa else -1 for key in np.arange(48)\n",
    "]).reshape(4, 12)\n",
    "\n",
    "print(\"\\nEstimated Optimal Policy (UP = 0, RIGHT = 1, DOWN = 2, LEFT = 3, N/A = -1):\")\n",
    "print(policy_expecsars)\n",
    "\n",
    "V_sarsa = ([np.max(Q_expecsarsa[key]) if key in Q_expecsarsa else 0 for key in np.arange(48)])"
   ]
  },
  {
   "cell_type": "code",
   "execution_count": null,
   "metadata": {},
   "outputs": [],
   "source": []
  },
  {
   "cell_type": "code",
   "execution_count": null,
   "metadata": {},
   "outputs": [],
   "source": []
  },
  {
   "cell_type": "code",
   "execution_count": null,
   "metadata": {},
   "outputs": [],
   "source": []
  },
  {
   "cell_type": "code",
   "execution_count": null,
   "metadata": {},
   "outputs": [],
   "source": []
  }
 ],
 "metadata": {
  "kernelspec": {
   "display_name": "Python 3",
   "language": "python",
   "name": "python3"
  },
  "language_info": {
   "codemirror_mode": {
    "name": "ipython",
    "version": 3
   },
   "file_extension": ".py",
   "mimetype": "text/x-python",
   "name": "python",
   "nbconvert_exporter": "python",
   "pygments_lexer": "ipython3",
   "version": "3.6.5"
  },
  "toc": {
   "base_numbering": 1,
   "nav_menu": {},
   "number_sections": true,
   "sideBar": true,
   "skip_h1_title": false,
   "title_cell": "Table of Contents",
   "title_sidebar": "Contents",
   "toc_cell": true,
   "toc_position": {},
   "toc_section_display": true,
   "toc_window_display": false
  }
 },
 "nbformat": 4,
 "nbformat_minor": 2
}
